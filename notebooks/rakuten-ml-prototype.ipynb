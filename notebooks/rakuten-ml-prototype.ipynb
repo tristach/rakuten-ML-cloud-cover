{
 "cells": [
  {
   "cell_type": "code",
   "execution_count": 11,
   "id": "80300e18",
   "metadata": {},
   "outputs": [
    {
     "name": "stdout",
     "output_type": "stream",
     "text": [
      "Libraries loaded. Ready to roll.\n"
     ]
    }
   ],
   "source": [
    "import pandas as pd\n",
    "import numpy as np\n",
    "import matplotlib.pyplot as plt\n",
    "import seaborn as sns\n",
    "\n",
    "# Set pandas and seaborn display options\n",
    "pd.set_option('display.max_columns', None)\n",
    "sns.set(style=\"whitegrid\")\n",
    "\n",
    "print(\"Libraries loaded. Ready to roll.\")\n"
   ]
  },
  {
   "cell_type": "code",
   "execution_count": 12,
   "id": "0a3c9389",
   "metadata": {},
   "outputs": [
    {
     "name": "stdout",
     "output_type": "stream",
     "text": [
      "Data preview:\n"
     ]
    },
    {
     "data": {
      "text/html": [
       "<div>\n",
       "<style scoped>\n",
       "    .dataframe tbody tr th:only-of-type {\n",
       "        vertical-align: middle;\n",
       "    }\n",
       "\n",
       "    .dataframe tbody tr th {\n",
       "        vertical-align: top;\n",
       "    }\n",
       "\n",
       "    .dataframe thead th {\n",
       "        text-align: right;\n",
       "    }\n",
       "</style>\n",
       "<table border=\"1\" class=\"dataframe\">\n",
       "  <thead>\n",
       "    <tr style=\"text-align: right;\">\n",
       "      <th></th>\n",
       "      <th>image_id</th>\n",
       "      <th>cloud_type</th>\n",
       "    </tr>\n",
       "  </thead>\n",
       "  <tbody>\n",
       "    <tr>\n",
       "      <th>0</th>\n",
       "      <td>img_001.jpg</td>\n",
       "      <td>cumulus</td>\n",
       "    </tr>\n",
       "    <tr>\n",
       "      <th>1</th>\n",
       "      <td>img_002.jpg</td>\n",
       "      <td>cirrus</td>\n",
       "    </tr>\n",
       "    <tr>\n",
       "      <th>2</th>\n",
       "      <td>img_003.jpg</td>\n",
       "      <td>stratus</td>\n",
       "    </tr>\n",
       "  </tbody>\n",
       "</table>\n",
       "</div>"
      ],
      "text/plain": [
       "      image_id cloud_type\n",
       "0  img_001.jpg    cumulus\n",
       "1  img_002.jpg     cirrus\n",
       "2  img_003.jpg    stratus"
      ]
     },
     "execution_count": 12,
     "metadata": {},
     "output_type": "execute_result"
    }
   ],
   "source": [
    "import os\n",
    "import pandas as pd\n",
    "\n",
    "# Path to your data file (you can change this if needed)\n",
    "data_path = \"data/cloud_labels.csv\"\n",
    "\n",
    "# Load the CSV into a DataFrame\n",
    "df = pd.read_csv(data_path)\n",
    "\n",
    "# Show the first few rows\n",
    "print(\"Data preview:\")\n",
    "df.head()\n"
   ]
  },
  {
   "cell_type": "code",
   "execution_count": 14,
   "id": "b8e4f9d6",
   "metadata": {},
   "outputs": [
    {
     "name": "stdout",
     "output_type": "stream",
     "text": [
      "Dummy cloud_labels.csv file created.\n"
     ]
    }
   ],
   "source": [
    "import os\n",
    "import pandas as pd\n",
    "\n",
    "# Create the data directory if it doesn't exist\n",
    "os.makedirs(\"data\", exist_ok=True)\n",
    "\n",
    "# Sample data\n",
    "dummy_data = {\n",
    "    \"image_id\": [\"img_001.jpg\", \"img_002.jpg\", \"img_003.jpg\"],\n",
    "    \"cloud_type\": [\"cumulus\", \"cirrus\", \"stratus\"]\n",
    "}\n",
    "\n",
    "# Convert to DataFrame and save as CSV\n",
    "df_dummy = pd.DataFrame(dummy_data)\n",
    "df_dummy.to_csv(\"data/cloud_labels.csv\", index=False)\n",
    "\n",
    "print(\"Dummy cloud_labels.csv file created.\")\n",
    "\n"
   ]
  },
  {
   "cell_type": "code",
   "execution_count": 15,
   "id": "c74fa952",
   "metadata": {},
   "outputs": [
    {
     "name": "stdout",
     "output_type": "stream",
     "text": [
      "Data preview:\n"
     ]
    },
    {
     "data": {
      "text/html": [
       "<div>\n",
       "<style scoped>\n",
       "    .dataframe tbody tr th:only-of-type {\n",
       "        vertical-align: middle;\n",
       "    }\n",
       "\n",
       "    .dataframe tbody tr th {\n",
       "        vertical-align: top;\n",
       "    }\n",
       "\n",
       "    .dataframe thead th {\n",
       "        text-align: right;\n",
       "    }\n",
       "</style>\n",
       "<table border=\"1\" class=\"dataframe\">\n",
       "  <thead>\n",
       "    <tr style=\"text-align: right;\">\n",
       "      <th></th>\n",
       "      <th>image_id</th>\n",
       "      <th>cloud_type</th>\n",
       "    </tr>\n",
       "  </thead>\n",
       "  <tbody>\n",
       "    <tr>\n",
       "      <th>0</th>\n",
       "      <td>img_001.jpg</td>\n",
       "      <td>cumulus</td>\n",
       "    </tr>\n",
       "    <tr>\n",
       "      <th>1</th>\n",
       "      <td>img_002.jpg</td>\n",
       "      <td>cirrus</td>\n",
       "    </tr>\n",
       "    <tr>\n",
       "      <th>2</th>\n",
       "      <td>img_003.jpg</td>\n",
       "      <td>stratus</td>\n",
       "    </tr>\n",
       "  </tbody>\n",
       "</table>\n",
       "</div>"
      ],
      "text/plain": [
       "      image_id cloud_type\n",
       "0  img_001.jpg    cumulus\n",
       "1  img_002.jpg     cirrus\n",
       "2  img_003.jpg    stratus"
      ]
     },
     "execution_count": 15,
     "metadata": {},
     "output_type": "execute_result"
    }
   ],
   "source": [
    "import pandas as pd\n",
    "\n",
    "data_path = \"data/cloud_labels.csv\"\n",
    "df = pd.read_csv(data_path)\n",
    "\n",
    "print(\"Data preview:\")\n",
    "df.head()\n"
   ]
  },
  {
   "cell_type": "code",
   "execution_count": 18,
   "id": "883b8d97",
   "metadata": {},
   "outputs": [
    {
     "name": "stdout",
     "output_type": "stream",
     "text": [
      "Encoded labels preview:\n"
     ]
    },
    {
     "data": {
      "text/html": [
       "<div>\n",
       "<style scoped>\n",
       "    .dataframe tbody tr th:only-of-type {\n",
       "        vertical-align: middle;\n",
       "    }\n",
       "\n",
       "    .dataframe tbody tr th {\n",
       "        vertical-align: top;\n",
       "    }\n",
       "\n",
       "    .dataframe thead th {\n",
       "        text-align: right;\n",
       "    }\n",
       "</style>\n",
       "<table border=\"1\" class=\"dataframe\">\n",
       "  <thead>\n",
       "    <tr style=\"text-align: right;\">\n",
       "      <th></th>\n",
       "      <th>image_id</th>\n",
       "      <th>cloud_type</th>\n",
       "      <th>label</th>\n",
       "    </tr>\n",
       "  </thead>\n",
       "  <tbody>\n",
       "    <tr>\n",
       "      <th>0</th>\n",
       "      <td>img_001.jpg</td>\n",
       "      <td>cumulus</td>\n",
       "      <td>1</td>\n",
       "    </tr>\n",
       "    <tr>\n",
       "      <th>1</th>\n",
       "      <td>img_002.jpg</td>\n",
       "      <td>cirrus</td>\n",
       "      <td>0</td>\n",
       "    </tr>\n",
       "    <tr>\n",
       "      <th>2</th>\n",
       "      <td>img_003.jpg</td>\n",
       "      <td>stratus</td>\n",
       "      <td>2</td>\n",
       "    </tr>\n",
       "  </tbody>\n",
       "</table>\n",
       "</div>"
      ],
      "text/plain": [
       "      image_id cloud_type  label\n",
       "0  img_001.jpg    cumulus      1\n",
       "1  img_002.jpg     cirrus      0\n",
       "2  img_003.jpg    stratus      2"
      ]
     },
     "execution_count": 18,
     "metadata": {},
     "output_type": "execute_result"
    }
   ],
   "source": [
    "from sklearn.preprocessing import LabelEncoder\n",
    "\n",
    "# Create and fit the encoder\n",
    "le = LabelEncoder()\n",
    "df[\"label\"] = le.fit_transform(df[\"cloud_type\"])\n",
    "\n",
    "# View the updated DataFrame\n",
    "print(\"Encoded labels preview:\")\n",
    "df\n"
   ]
  },
  {
   "cell_type": "code",
   "execution_count": 17,
   "id": "58f6e8a3",
   "metadata": {},
   "outputs": [
    {
     "name": "stdout",
     "output_type": "stream",
     "text": [
      "Collecting scikit-learn\n",
      "  Downloading scikit_learn-1.7.0-cp311-cp311-win_amd64.whl.metadata (14 kB)\n",
      "Requirement already satisfied: numpy>=1.22.0 in c:\\users\\trist\\appdata\\local\\packages\\pythonsoftwarefoundation.python.3.11_qbz5n2kfra8p0\\localcache\\local-packages\\python311\\site-packages (from scikit-learn) (2.3.1)\n",
      "Collecting scipy>=1.8.0 (from scikit-learn)\n",
      "  Downloading scipy-1.15.3-cp311-cp311-win_amd64.whl.metadata (60 kB)\n",
      "     ---------------------------------------- 0.0/60.8 kB ? eta -:--:--\n",
      "     ------------ ------------------------- 20.5/60.8 kB 640.0 kB/s eta 0:00:01\n",
      "     -------------------------------- ----- 51.2/60.8 kB 650.2 kB/s eta 0:00:01\n",
      "     -------------------------------------- 60.8/60.8 kB 537.5 kB/s eta 0:00:00\n",
      "Collecting joblib>=1.2.0 (from scikit-learn)\n",
      "  Downloading joblib-1.5.1-py3-none-any.whl.metadata (5.6 kB)\n",
      "Collecting threadpoolctl>=3.1.0 (from scikit-learn)\n",
      "  Downloading threadpoolctl-3.6.0-py3-none-any.whl.metadata (13 kB)\n",
      "Downloading scikit_learn-1.7.0-cp311-cp311-win_amd64.whl (10.7 MB)\n",
      "   ---------------------------------------- 0.0/10.7 MB ? eta -:--:--\n",
      "   - -------------------------------------- 0.3/10.7 MB 8.9 MB/s eta 0:00:02\n",
      "   ----- ---------------------------------- 1.4/10.7 MB 17.3 MB/s eta 0:00:01\n",
      "   --------- ------------------------------ 2.4/10.7 MB 19.5 MB/s eta 0:00:01\n",
      "   ----------- ---------------------------- 3.0/10.7 MB 17.4 MB/s eta 0:00:01\n",
      "   --------------- ------------------------ 4.1/10.7 MB 18.8 MB/s eta 0:00:01\n",
      "   -------------------- ------------------- 5.4/10.7 MB 20.4 MB/s eta 0:00:01\n",
      "   ------------------------ --------------- 6.6/10.7 MB 21.1 MB/s eta 0:00:01\n",
      "   ---------------------------- ----------- 7.6/10.7 MB 21.1 MB/s eta 0:00:01\n",
      "   -------------------------------- ------- 8.7/10.7 MB 21.3 MB/s eta 0:00:01\n",
      "   ------------------------------------- -- 9.9/10.7 MB 21.9 MB/s eta 0:00:01\n",
      "   ---------------------------------------  10.7/10.7 MB 23.4 MB/s eta 0:00:01\n",
      "   ---------------------------------------- 10.7/10.7 MB 21.8 MB/s eta 0:00:00\n",
      "Downloading joblib-1.5.1-py3-none-any.whl (307 kB)\n",
      "   ---------------------------------------- 0.0/307.7 kB ? eta -:--:--\n",
      "   --------------------------------------- 307.7/307.7 kB 18.6 MB/s eta 0:00:00\n",
      "Downloading scipy-1.15.3-cp311-cp311-win_amd64.whl (41.2 MB)\n",
      "   ---------------------------------------- 0.0/41.2 MB ? eta -:--:--\n",
      "    --------------------------------------- 1.0/41.2 MB 31.4 MB/s eta 0:00:02\n",
      "   -- ------------------------------------- 2.2/41.2 MB 28.0 MB/s eta 0:00:02\n",
      "   --- ------------------------------------ 3.2/41.2 MB 29.6 MB/s eta 0:00:02\n",
      "   ---- ----------------------------------- 4.2/41.2 MB 24.3 MB/s eta 0:00:02\n",
      "   ----- ---------------------------------- 5.4/41.2 MB 24.5 MB/s eta 0:00:02\n",
      "   ------ --------------------------------- 6.6/41.2 MB 26.4 MB/s eta 0:00:02\n",
      "   ------- -------------------------------- 7.8/41.2 MB 25.0 MB/s eta 0:00:02\n",
      "   -------- ------------------------------- 8.9/41.2 MB 25.7 MB/s eta 0:00:02\n",
      "   --------- ------------------------------ 10.1/41.2 MB 26.0 MB/s eta 0:00:02\n",
      "   ---------- ----------------------------- 11.3/41.2 MB 25.2 MB/s eta 0:00:02\n",
      "   ------------ --------------------------- 12.5/41.2 MB 25.2 MB/s eta 0:00:02\n",
      "   ------------- -------------------------- 13.5/41.2 MB 25.2 MB/s eta 0:00:02\n",
      "   -------------- ------------------------- 14.6/41.2 MB 25.2 MB/s eta 0:00:02\n",
      "   --------------- ------------------------ 15.9/41.2 MB 25.2 MB/s eta 0:00:02\n",
      "   ---------------- ----------------------- 17.2/41.2 MB 25.1 MB/s eta 0:00:01\n",
      "   ----------------- ---------------------- 18.2/41.2 MB 25.1 MB/s eta 0:00:01\n",
      "   ------------------ --------------------- 19.4/41.2 MB 25.2 MB/s eta 0:00:01\n",
      "   ------------------- -------------------- 20.6/41.2 MB 25.2 MB/s eta 0:00:01\n",
      "   --------------------- ------------------ 21.7/41.2 MB 25.2 MB/s eta 0:00:01\n",
      "   ---------------------- ----------------- 23.0/41.2 MB 25.2 MB/s eta 0:00:01\n",
      "   ----------------------- ---------------- 24.3/41.2 MB 25.2 MB/s eta 0:00:01\n",
      "   ------------------------ --------------- 25.4/41.2 MB 25.2 MB/s eta 0:00:01\n",
      "   ------------------------- -------------- 26.6/41.2 MB 25.1 MB/s eta 0:00:01\n",
      "   -------------------------- ------------- 27.7/41.2 MB 25.1 MB/s eta 0:00:01\n",
      "   ---------------------------- ----------- 28.9/41.2 MB 25.2 MB/s eta 0:00:01\n",
      "   ----------------------------- ---------- 30.0/41.2 MB 25.2 MB/s eta 0:00:01\n",
      "   ------------------------------ --------- 31.2/41.2 MB 26.2 MB/s eta 0:00:01\n",
      "   ------------------------------- -------- 32.4/41.2 MB 26.2 MB/s eta 0:00:01\n",
      "   -------------------------------- ------- 33.4/41.2 MB 25.2 MB/s eta 0:00:01\n",
      "   --------------------------------- ------ 34.5/41.2 MB 25.2 MB/s eta 0:00:01\n",
      "   ---------------------------------- ----- 35.8/41.2 MB 25.2 MB/s eta 0:00:01\n",
      "   ------------------------------------ --- 37.2/41.2 MB 26.2 MB/s eta 0:00:01\n",
      "   ------------------------------------- -- 38.3/41.2 MB 26.2 MB/s eta 0:00:01\n",
      "   -------------------------------------- - 39.6/41.2 MB 26.2 MB/s eta 0:00:01\n",
      "   ---------------------------------------  40.8/41.2 MB 26.2 MB/s eta 0:00:01\n",
      "   ---------------------------------------  41.2/41.2 MB 26.2 MB/s eta 0:00:01\n",
      "   ---------------------------------------  41.2/41.2 MB 26.2 MB/s eta 0:00:01\n",
      "   ---------------------------------------- 41.2/41.2 MB 21.9 MB/s eta 0:00:00\n",
      "Downloading threadpoolctl-3.6.0-py3-none-any.whl (18 kB)\n",
      "Installing collected packages: threadpoolctl, scipy, joblib, scikit-learn\n",
      "Successfully installed joblib-1.5.1 scikit-learn-1.7.0 scipy-1.15.3 threadpoolctl-3.6.0\n"
     ]
    },
    {
     "name": "stderr",
     "output_type": "stream",
     "text": [
      "\n",
      "[notice] A new release of pip is available: 24.0 -> 25.1.1\n",
      "[notice] To update, run: C:\\Users\\trist\\AppData\\Local\\Microsoft\\WindowsApps\\PythonSoftwareFoundation.Python.3.11_qbz5n2kfra8p0\\python.exe -m pip install --upgrade pip\n"
     ]
    }
   ],
   "source": [
    "!pip install scikit-learn\n"
   ]
  },
  {
   "cell_type": "markdown",
   "id": "4a3506ce",
   "metadata": {},
   "source": []
  },
  {
   "cell_type": "code",
   "execution_count": 23,
   "id": "7fa1aff0",
   "metadata": {},
   "outputs": [],
   "source": [
    "from sklearn.model_selection import train_test_split\n",
    "\n",
    "# Separate features (X) and labels (y)\n",
    "X = df[[\"image_id\"]]  # we'll fix this in a second – image_id isn't useful\n",
    "y = df[\"label\"]\n",
    "\n",
    "# For now, replace image_id with numbers (just for demo)\n",
    "X = pd.DataFrame([0, 1, 2], columns=[\"feature\"])\n",
    "\n",
    "# Split data\n",
    "X_train, X_test, y_train, y_test = train_test_split(X, y, test_size=0.33, random_state=42)\n"
   ]
  },
  {
   "cell_type": "code",
   "execution_count": 24,
   "id": "b83ea6ca",
   "metadata": {},
   "outputs": [
    {
     "name": "stdout",
     "output_type": "stream",
     "text": [
      "Predictions on test set: [0]\n"
     ]
    }
   ],
   "source": [
    "from sklearn.tree import DecisionTreeClassifier\n",
    "\n",
    "# Create and train the model\n",
    "model = DecisionTreeClassifier()\n",
    "model.fit(X_train, y_train)\n",
    "\n",
    "# Predict on test set\n",
    "y_pred = model.predict(X_test)\n",
    "\n",
    "# View the predictions\n",
    "print(\"Predictions on test set:\", y_pred.tolist())\n"
   ]
  },
  {
   "cell_type": "code",
   "execution_count": 25,
   "id": "9fc8172f",
   "metadata": {},
   "outputs": [
    {
     "name": "stdout",
     "output_type": "stream",
     "text": [
      "Model accuracy: 0.00\n"
     ]
    }
   ],
   "source": [
    "from sklearn.metrics import accuracy_score\n",
    "\n",
    "# Check how accurate the model is\n",
    "accuracy = accuracy_score(y_test, y_pred)\n",
    "print(f\"Model accuracy: {accuracy:.2f}\")\n"
   ]
  },
  {
   "cell_type": "code",
   "execution_count": 26,
   "id": "c0883b60",
   "metadata": {},
   "outputs": [],
   "source": [
    "# Simulated image features (3 features per image)\n",
    "import numpy as np\n",
    "\n",
    "X = pd.DataFrame([\n",
    "    [0.3, 0.6, 0.9],  # img_001.jpg\n",
    "    [0.1, 0.2, 0.4],  # img_002.jpg\n",
    "    [0.8, 0.7, 0.5]   # img_003.jpg\n",
    "], columns=[\"brightness\", \"density\", \"roughness\"])\n"
   ]
  },
  {
   "cell_type": "code",
   "execution_count": 34,
   "id": "2dbfae95",
   "metadata": {},
   "outputs": [],
   "source": [
    "from sklearn.model_selection import train_test_split\n",
    "\n",
    "X_train, X_test, y_train, y_test = train_test_split(X, y, test_size=0.33, random_state=42)\n"
   ]
  },
  {
   "cell_type": "code",
   "execution_count": 35,
   "id": "5474ed8b",
   "metadata": {},
   "outputs": [
    {
     "name": "stdout",
     "output_type": "stream",
     "text": [
      "Predictions on test set: [1, 0, 2, 0]\n"
     ]
    }
   ],
   "source": [
    "from sklearn.tree import DecisionTreeClassifier\n",
    "\n",
    "model = DecisionTreeClassifier()\n",
    "model.fit(X_train, y_train)\n",
    "\n",
    "y_pred = model.predict(X_test)\n",
    "print(\"Predictions on test set:\", y_pred.tolist())\n"
   ]
  },
  {
   "cell_type": "code",
   "execution_count": 36,
   "id": "473566b1",
   "metadata": {},
   "outputs": [
    {
     "name": "stdout",
     "output_type": "stream",
     "text": [
      "Accuracy: 0.5\n"
     ]
    }
   ],
   "source": [
    "from sklearn.metrics import accuracy_score\n",
    "\n",
    "accuracy = accuracy_score(y_test, y_pred)\n",
    "print(\"Accuracy:\", accuracy)\n"
   ]
  },
  {
   "cell_type": "code",
   "execution_count": 30,
   "id": "7a98f66d",
   "metadata": {},
   "outputs": [],
   "source": [
    "# Simulate a slightly larger dataset (10 images, 3 features each)\n",
    "X = pd.DataFrame([\n",
    "    [0.1, 0.2, 0.3],\n",
    "    [0.4, 0.5, 0.6],\n",
    "    [0.7, 0.8, 0.9],\n",
    "    [0.2, 0.3, 0.1],\n",
    "    [0.6, 0.5, 0.4],\n",
    "    [0.9, 0.8, 0.7],\n",
    "    [0.3, 0.1, 0.2],\n",
    "    [0.5, 0.7, 0.6],\n",
    "    [0.8, 0.6, 0.9],\n",
    "    [0.2, 0.4, 0.3]\n",
    "], columns=[\"brightness\", \"density\", \"roughness\"])\n",
    "\n",
    "# Fake labels (0=cirrus, 1=cumulus, 2=stratus)\n",
    "y = pd.Series([0, 1, 2, 0, 1, 2, 0, 1, 2, 0])\n"
   ]
  },
  {
   "cell_type": "code",
   "execution_count": null,
   "id": "7bf33e05",
   "metadata": {},
   "outputs": [],
   "source": [
    "import numpy as np\n",
    "\n",
    "X = pd.DataFrame({\n",
    "    \"brightness\": [70, 40, 60],   # Simulated brightness (0–100)\n",
    "    \"width\": [1920, 1280, 1600]   # Simulated image width in pixels\n",
    "})\n"
   ]
  },
  {
   "cell_type": "code",
   "execution_count": 37,
   "id": "2a0aa679",
   "metadata": {},
   "outputs": [
    {
     "data": {
      "image/png": "[encoded data removed]",
      "text/plain": [
       "<Figure size 800x600 with 1 Axes>"
      ]
     },
     "metadata": {},
     "output_type": "display_data"
    }
   ],
   "source": [
    "from sklearn.tree import plot_tree\n",
    "import matplotlib.pyplot as plt\n",
    "\n",
    "plt.figure(figsize=(8,6))\n",
    "plot_tree(model, feature_names=X.columns, class_names=[\"cirrus\", \"cumulus\", \"stratus\"], filled=True)\n",
    "plt.title(\"Decision Tree Visualization\")\n",
    "plt.show()\n"
   ]
  },
  {
   "cell_type": "code",
   "execution_count": null,
   "id": "9eacf113",
   "metadata": {},
   "outputs": [],
   "source": []
  },
  {
   "cell_type": "markdown",
   "id": "bdfee404",
   "metadata": {},
   "source": [
    "### Summary\n",
    "\n",
    "To evaluate my prototype, I trained a decision tree classifier on synthetic image metadata like brightness and pixel width. I visualized the resulting model to show how it makes predictions based on brightness thresholds and pixel density. This demonstrates not just the mechanics of a classifier, but how explainable AI decisions can be — a crucial factor in secure or regulated environments.\n"
   ]
  },
  {
   "cell_type": "markdown",
   "id": "d5b13294",
   "metadata": {},
   "source": [
    "# Rakuten-ML-Cloud-Cover: Prototype\n",
    "\n",
    "This notebook explores anomaly detection using simulated Sentinel-style log data.  \n",
    "It demonstrates both wide telemetry (data forest) and grouped pattern detection (conical aggregation).\n"
   ]
  }
 ],
 "metadata": {
  "kernelspec": {
   "display_name": "Python 3",
   "language": "python",
   "name": "python3"
  },
  "language_info": {
   "codemirror_mode": {
    "name": "ipython",
    "version": 3
   },
   "file_extension": ".py",
   "mimetype": "text/x-python",
   "name": "python",
   "nbconvert_exporter": "python",
   "pygments_lexer": "ipython3",
   "version": "3.11.9"
  }
 },
 "nbformat": 4,
 "nbformat_minor": 5
}
